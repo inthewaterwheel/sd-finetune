{
 "cells": [
  {
   "cell_type": "code",
   "execution_count": 1,
   "id": "da0133d6-d906-455d-8599-18a4943a4c5d",
   "metadata": {},
   "outputs": [
    {
     "name": "stdout",
     "output_type": "stream",
     "text": [
      "Cloning into 'waifu-diffusion'...\n",
      "remote: Enumerating objects: 580, done.\u001b[K\n",
      "remote: Total 580 (delta 0), reused 0 (delta 0), pack-reused 580\u001b[K\n",
      "Receiving objects: 100% (580/580), 133.56 MiB | 33.44 MiB/s, done.\n",
      "Resolving deltas: 100% (230/230), done.\n",
      "/workspace/waifu-diffusion\n",
      "\u001b[33mWARNING: Running pip as the 'root' user can result in broken permissions and conflicting behaviour with the system package manager. It is recommended to use a virtual environment instead: https://pip.pypa.io/warnings/venv\u001b[0m\n",
      "--2022-09-18 18:09:22--  https://r2-public-worker.drysys.workers.dev/sd-v1-4-full-ema.ckpt\n",
      "Resolving r2-public-worker.drysys.workers.dev (r2-public-worker.drysys.workers.dev)... 104.21.50.238, 172.67.213.219, 2606:4700:3034::ac43:d5db, ...\n",
      "Connecting to r2-public-worker.drysys.workers.dev (r2-public-worker.drysys.workers.dev)|104.21.50.238|:443... connected.\n",
      "HTTP request sent, awaiting response... 200 OK\n",
      "Length: 7703807346 (7.2G) [application/octet-stream]\n",
      "Saving to: ‘sd-v1-4-full-ema.ckpt’\n",
      "\n",
      "sd-v1-4-full-ema.ck 100%[===================>]   7.17G  39.0MB/s    in 3m 33s  \n",
      "\n",
      "2022-09-18 18:12:55 (34.6 MB/s) - ‘sd-v1-4-full-ema.ckpt’ saved [7703807346/7703807346]\n",
      "\n",
      "--2022-09-18 18:12:56--  http://sd-finetune.vonk.workers.dev/pokemon_labelled_n_830.tgz\n",
      "Resolving sd-finetune.vonk.workers.dev (sd-finetune.vonk.workers.dev)... 172.67.194.133, 104.21.92.135, 2606:4700:3033::ac43:c285, ...\n",
      "Connecting to sd-finetune.vonk.workers.dev (sd-finetune.vonk.workers.dev)|172.67.194.133|:80... connected.\n",
      "HTTP request sent, awaiting response... 200 OK\n",
      "Length: 136372224 (130M) [application/gzip]\n",
      "Saving to: ‘pokemon_labelled_n_830.tgz’\n",
      "\n",
      "pokemon_labelled_n_ 100%[===================>] 130.05M  3.90MB/s    in 42s     \n",
      "\n",
      "2022-09-18 18:13:39 (3.09 MB/s) - ‘pokemon_labelled_n_830.tgz’ saved [136372224/136372224]\n",
      "\n"
     ]
    }
   ],
   "source": [
    "!git clone https://github.com/harubaru/waifu-diffusion.git\n",
    "%cd waifu-diffusion\n",
    "!pip install -r requirements.txt -q\n",
    "!wget https://r2-public-worker.drysys.workers.dev/sd-v1-4-full-ema.ckpt\n",
    "!wget sd-finetune.vonk.workers.dev/pokemon_labelled_n_830.tgz\n",
    "!tar -xf pokemon_labelled_n_830.tgz\n",
    "!mv sd-v1-4-full-ema.ckpt model.ckpt"
   ]
  },
  {
   "cell_type": "code",
   "execution_count": 23,
   "id": "6d7f4e89-56ca-4237-bddd-02702f0d4a42",
   "metadata": {},
   "outputs": [
    {
     "name": "stdout",
     "output_type": "stream",
     "text": [
      "--2022-09-18 20:34:43--  http://sd-finetune.vonk.workers.dev/pokemon_labelled_v2_n_830.tgz\n",
      "Resolving sd-finetune.vonk.workers.dev (sd-finetune.vonk.workers.dev)... 172.67.194.133, 104.21.92.135, 2606:4700:3033::ac43:c285, ...\n",
      "Connecting to sd-finetune.vonk.workers.dev (sd-finetune.vonk.workers.dev)|172.67.194.133|:80... connected.\n",
      "HTTP request sent, awaiting response... 200 OK\n",
      "Length: 21328384 (20M) [application/gzip]\n",
      "Saving to: ‘pokemon_labelled_v2_n_830.tgz’\n",
      "\n",
      "pokemon_labelled_v2 100%[===================>]  20.34M  37.2MB/s    in 0.5s    \n",
      "\n",
      "2022-09-18 20:34:44 (37.2 MB/s) - ‘pokemon_labelled_v2_n_830.tgz’ saved [21328384/21328384]\n",
      "\n"
     ]
    }
   ],
   "source": [
    "!wget sd-finetune.vonk.workers.dev/pokemon_labelled_v2_n_830.tgz\n",
    "!tar -xf pokemon_labelled_v2_n_830.tgz"
   ]
  },
  {
   "cell_type": "code",
   "execution_count": 22,
   "id": "f03120c6-53e8-42ec-9520-f215fd7a9f11",
   "metadata": {},
   "outputs": [],
   "source": [
    "!rm -rf processed_images"
   ]
  },
  {
   "cell_type": "code",
   "execution_count": 9,
   "id": "0debc084-4ce7-44ed-8ef5-1e1d37ba760e",
   "metadata": {},
   "outputs": [],
   "source": [
    "# Note: You need to change:\n",
    "# - The following command should have --data_root pointing to the right data\n",
    "# - The following command should have --gpu=0, for 1 GPU, --gpu=0,1, for 2 GPUs, or --gpu 0,1,2,3, for 4 GPUs\n",
    "# - configs/stable-diffusion/v1-finetune-4gpu.yaml should be modified such that in the \"data\" section batch_size and num_workers are set to the number of GPUs\n",
    "\n",
    "# You likely need to follow instructions from here:\n",
    "#https://discord.com/channels/930499730843250783/953132470528798811/1018668937052962908\n",
    "# apt install vim -y\n",
    "# vim /opt/conda/lib/python3.7/site-packages/pytorch_lightning/trainer/connectors/checkpoint_connector.py \n",
    "\n",
    "# You also need to change waifu-diffusion/ldm/data/local.py to use the right data_root, as something is broken on their end\n"
   ]
  },
  {
   "cell_type": "code",
   "execution_count": null,
   "id": "c6d5d200-85b7-43c8-ad44-18732fc55e1f",
   "metadata": {},
   "outputs": [],
   "source": [
    "!sh train.sh -t -n \"aesthetic\" --resume_from_checkpoint ../pokediffusion_epoch_15.ckpt --base ./configs/stable-diffusion/v1-finetune-4gpu.yaml --no-test --seed 25 --scale_lr False --data_root \"./processed_images\" --gpu=0,1,"
   ]
  },
  {
   "cell_type": "code",
   "execution_count": null,
   "id": "4bee7e64-1935-4ef8-b79a-b68a7d660c49",
   "metadata": {},
   "outputs": [],
   "source": []
  }
 ],
 "metadata": {
  "kernelspec": {
   "display_name": "Python 3 (ipykernel)",
   "language": "python",
   "name": "python3"
  },
  "language_info": {
   "codemirror_mode": {
    "name": "ipython",
    "version": 3
   },
   "file_extension": ".py",
   "mimetype": "text/x-python",
   "name": "python",
   "nbconvert_exporter": "python",
   "pygments_lexer": "ipython3",
   "version": "3.7.13"
  }
 },
 "nbformat": 4,
 "nbformat_minor": 5
}
