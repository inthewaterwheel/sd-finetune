{
 "cells": [
  {
   "cell_type": "code",
   "execution_count": null,
   "id": "b4d14bda-5010-4382-8094-5d5b5df9539c",
   "metadata": {},
   "outputs": [],
   "source": [
    "# You need to do some weird setup stuff:\n",
    "# "
   ]
  },
  {
   "cell_type": "code",
   "execution_count": 54,
   "id": "73b83437-9c3d-438e-af9d-64ae0c0d561d",
   "metadata": {},
   "outputs": [
    {
     "name": "stdout",
     "output_type": "stream",
     "text": [
      "total 4\n",
      "drwxr-xr-x 15 root root 4096 Sep 18 20:34 ..\n",
      "drwxr-xr-x  6 root root   90 Sep 18 20:36 2022-09-18T20-35-08_aesthetic\n",
      "drwxr-xr-x  2 root root    6 Sep 18 21:20 .ipynb_checkpoints\n",
      "drwxr-xr-x  5 root root  122 Sep 18 22:55 .\n",
      "drwxr-xr-x  6 root root   90 Sep 18 22:56 2022-09-18T22-54-11_aesthetic\n"
     ]
    }
   ],
   "source": [
    "!ls -latr waifu-diffusion/logs/"
   ]
  },
  {
   "cell_type": "code",
   "execution_count": 47,
   "id": "16af2092-5de7-4060-91b1-3032c3a7a98b",
   "metadata": {},
   "outputs": [
    {
     "name": "stdout",
     "output_type": "stream",
     "text": [
      "total 56955504\n",
      "drwxr-xr-x 6 root root          90 Sep 18 20:36  ..\n",
      "-rw-r--r-- 1 root root 14580607625 Sep 18 21:31 'epoch=000013.ckpt'\n",
      "-rw-r--r-- 1 root root 14580607625 Sep 18 21:50 'epoch=000015.ckpt'\n",
      "-rw-r--r-- 1 root root 14580607625 Sep 18 22:29 'epoch=000020.ckpt'\n",
      "drwxr-xr-x 2 root root         118 Sep 18 22:29  .\n",
      "-rw-r--r-- 1 root root 14580607625 Sep 18 22:49  last.ckpt\n"
     ]
    }
   ],
   "source": [
    "!ls -latr waifu-diffusion/logs/2022-09-18T22-54-11_aesthetic/checkpoints"
   ]
  },
  {
   "cell_type": "code",
   "execution_count": 55,
   "id": "ed068056-4456-4faa-8067-c6098976ef27",
   "metadata": {},
   "outputs": [],
   "source": [
    "!cp waifu-diffusion/logs/2022-09-18T22-54-11_aesthetic/checkpoints/last.ckpt pokediffusion_epoch_45.ckpt"
   ]
  },
  {
   "cell_type": "code",
   "execution_count": 4,
   "id": "5c59455e-a6fe-4c8d-a3ec-102ddafe5feb",
   "metadata": {},
   "outputs": [],
   "source": [
    "import os\n",
    "import torch\n",
    "\n",
    "def prune_it(p, keep_only_ema=False):\n",
    "    print(f\"prunin' in path: {p}\")\n",
    "    size_initial = os.path.getsize(p)\n",
    "    nsd = dict()\n",
    "    sd = torch.load(p, map_location=\"cpu\")\n",
    "    print(sd.keys())\n",
    "    for k in sd.keys():\n",
    "        if k != \"optimizer_states\":\n",
    "            nsd[k] = sd[k]\n",
    "    else:\n",
    "        print(f\"removing optimizer states for path {p}\")\n",
    "    if \"global_step\" in sd:\n",
    "        print(f\"This is global step {sd['global_step']}.\")\n",
    "    if keep_only_ema:\n",
    "        sd = nsd[\"state_dict\"].copy()\n",
    "        # infer ema keys\n",
    "        ema_keys = {k: \"model_ema.\" + k[6:].replace(\".\", \".\") for k in sd.keys() if k.startswith(\"model.\")}\n",
    "        new_sd = dict()\n",
    "\n",
    "        for k in sd:\n",
    "            if k in ema_keys:\n",
    "                new_sd[k] = sd[ema_keys[k]].half()\n",
    "            elif not k.startswith(\"model_ema.\") or k in [\"model_ema.num_updates\", \"model_ema.decay\"]:\n",
    "                new_sd[k] = sd[k].half()\n",
    "\n",
    "        assert len(new_sd) == len(sd) - len(ema_keys)\n",
    "        nsd[\"state_dict\"] = new_sd\n",
    "    else:\n",
    "        sd = nsd['state_dict'].copy()\n",
    "        new_sd = dict()\n",
    "        for k in sd:\n",
    "            new_sd[k] = sd[k].half()\n",
    "        nsd['state_dict'] = new_sd\n",
    "\n",
    "    fn = f\"{os.path.splitext(p)[0]}_pruned.ckpt\" if not keep_only_ema else f\"{os.path.splitext(p)[0]}-ema-pruned.ckpt\"\n",
    "    print(f\"saving pruned checkpoint at: {fn}\")\n",
    "    torch.save(nsd, fn)\n",
    "    newsize = os.path.getsize(fn)\n",
    "    MSG = f\"New ckpt size: {newsize*1e-9:.2f} GB. \" + \\\n",
    "          f\"Saved {(size_initial - newsize)*1e-9:.2f} GB by removing optimizer states\"\n",
    "    if keep_only_ema:\n",
    "        MSG += \" and non-EMA weights\"\n",
    "    print(MSG)"
   ]
  },
  {
   "cell_type": "code",
   "execution_count": 57,
   "id": "1f9bbdcd-3ddb-45d3-b4b9-32b27cdcd105",
   "metadata": {},
   "outputs": [
    {
     "name": "stdout",
     "output_type": "stream",
     "text": [
      "prunin' in path: pokediffusion_epoch_45.ckpt\n",
      "dict_keys(['epoch', 'global_step', 'pytorch-lightning_version', 'state_dict', 'loops', 'callbacks', 'optimizer_states', 'lr_schedulers'])\n",
      "removing optimizer states for path pokediffusion_epoch_45.ckpt\n",
      "This is global step 479324.\n",
      "saving pruned checkpoint at: pokediffusion_epoch_45_pruned.ckpt\n",
      "New ckpt size: 3.85 GB. Saved 10.73 GB by removing optimizer states\n"
     ]
    }
   ],
   "source": [
    "prune_it('pokediffusion_epoch_45.ckpt')"
   ]
  },
  {
   "cell_type": "code",
   "execution_count": null,
   "id": "4ea48d8d-40eb-4135-8c14-f68e9be22097",
   "metadata": {},
   "outputs": [],
   "source": [
    "!curl \"https://awscli.amazonaws.com/awscli-exe-linux-x86_64.zip\" -o \"awscliv2.zip\"\n",
    "!sudo apt install unzip -y\n",
    "!unzip awscliv2.zip\n",
    "!sudo ./aws/install"
   ]
  },
  {
   "cell_type": "code",
   "execution_count": 7,
   "id": "aa306f2c-28e5-4379-9662-c50980f2bd05",
   "metadata": {},
   "outputs": [],
   "source": [
    "!mkdir ~/.aws\n",
    "# Upload your ~/.aws/credentials now\n",
    "\n",
    "!aws configure set default.s3.max_concurrent_requests 3\n",
    "!aws configure set default.s3.multipart_chunksize 128MB"
   ]
  },
  {
   "cell_type": "code",
   "execution_count": 58,
   "id": "ed23fc40-25cc-4557-a744-758af1ddabb9",
   "metadata": {},
   "outputs": [
    {
     "name": "stdout",
     "output_type": "stream",
     "text": [
      "upload: ./pokediffusion_epoch_45_pruned.ckpt to s3://pokediffusion_ckpts_v2/pokediffusion_epoch_45_pruned.ckpt\n"
     ]
    }
   ],
   "source": [
    "!aws s3 cp --endpoint-url https://e8c8a19b99810a33b983068eabf3df2f.r2.cloudflarestorage.com/sd-finetune pokediffusion_epoch_45_pruned.ckpt s3://pokediffusion_ckpts_v2"
   ]
  },
  {
   "cell_type": "code",
   "execution_count": 59,
   "id": "36c47c18-6ab3-4cb4-b63d-675ba6105e4b",
   "metadata": {},
   "outputs": [
    {
     "name": "stdout",
     "output_type": "stream",
     "text": [
      "upload: ./pokediffusion_epoch_45.ckpt to s3://pokediffusion_ckpts_v2/pokediffusion_epoch_45.ckpt\n"
     ]
    }
   ],
   "source": [
    "!aws s3 cp --endpoint-url https://e8c8a19b99810a33b983068eabf3df2f.r2.cloudflarestorage.com/sd-finetune pokediffusion_epoch_45.ckpt s3://pokediffusion_ckpts_v2"
   ]
  },
  {
   "cell_type": "code",
   "execution_count": 22,
   "id": "9914287e-7bcb-4376-924a-418cf709a282",
   "metadata": {},
   "outputs": [],
   "source": [
    "!rm pokediffusion_epoch_1.ckpt"
   ]
  },
  {
   "cell_type": "code",
   "execution_count": null,
   "id": "caf5ffe1-35fc-4cee-867c-ad656f0f7578",
   "metadata": {},
   "outputs": [],
   "source": []
  }
 ],
 "metadata": {
  "kernelspec": {
   "display_name": "Python 3 (ipykernel)",
   "language": "python",
   "name": "python3"
  },
  "language_info": {
   "codemirror_mode": {
    "name": "ipython",
    "version": 3
   },
   "file_extension": ".py",
   "mimetype": "text/x-python",
   "name": "python",
   "nbconvert_exporter": "python",
   "pygments_lexer": "ipython3",
   "version": "3.7.13"
  }
 },
 "nbformat": 4,
 "nbformat_minor": 5
}
